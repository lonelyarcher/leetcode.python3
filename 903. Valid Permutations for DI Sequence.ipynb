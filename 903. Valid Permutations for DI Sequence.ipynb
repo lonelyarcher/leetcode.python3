{
 "cells": [
  {
   "cell_type": "code",
   "execution_count": 6,
   "metadata": {},
   "outputs": [],
   "source": [
    "class Solution:\n",
    "    \n",
    "    def __init__(self):\n",
    "        self.cache = {}\n",
    "    \n",
    "    def numPermsDISequence(self, S):\n",
    "        \"\"\"\n",
    "        :type S: str\n",
    "        :rtype: int\n",
    "        \"\"\"\n",
    "        if len(S) == 1:\n",
    "            return [[1, 0]] if S == 'D' else [[0, 1]]\n",
    "        ans = []\n",
    "        if S in self.cache:\n",
    "            return self.cache[S]\n",
    "        \n",
    "        for i in range(len(S) + 1):\n",
    "            if i == 0 and S[i] == 'D':\n",
    "                for arr in self.numPermsDISequence(S[1:]):\n",
    "                    ans.append([len(S)] + arr)\n",
    "            elif i == len(S) and S[i - 1] == 'I':\n",
    "                for arr in self.numPermsDISequence(S[:-1]):\n",
    "                    ans.append(arr + [len(S)])\n",
    "            elif S[i - 1] == 'I' and S[i] == 'D':\n",
    "                for arr in self.numPermsDISequence(S[:i - 1] + 'D' + S[i + 1:]):\n",
    "                    arr.insert(i, len(S))\n",
    "                    ans.append(arr)\n",
    "                for arr in self.numPermsDISequence(S[:i - 1] + 'I' + S[i + 1:]):\n",
    "                    arr.insert(i, len(S))\n",
    "                    ans.append(arr)\n",
    "               \n",
    "        \n",
    "            \n",
    "        self.cache[S] = ans\n",
    "        return ans\n",
    "\n"
   ]
  },
  {
   "cell_type": "code",
   "execution_count": null,
   "metadata": {},
   "outputs": [],
   "source": [
    "a = set(Solution().numPermsDISequence('IDDDIIDIIIIIIIIDIDID'))\n",
    "print( len(a) )"
   ]
  },
  {
   "cell_type": "code",
   "execution_count": null,
   "metadata": {},
   "outputs": [],
   "source": []
  }
 ],
 "metadata": {
  "kernelspec": {
   "display_name": "Python 3",
   "language": "python",
   "name": "python3"
  },
  "language_info": {
   "codemirror_mode": {
    "name": "ipython",
    "version": 3
   },
   "file_extension": ".py",
   "mimetype": "text/x-python",
   "name": "python",
   "nbconvert_exporter": "python",
   "pygments_lexer": "ipython3",
   "version": "3.6.4"
  }
 },
 "nbformat": 4,
 "nbformat_minor": 2
}
